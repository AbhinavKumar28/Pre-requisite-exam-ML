{
  "nbformat": 4,
  "nbformat_minor": 0,
  "metadata": {
    "colab": {
      "provenance": []
    },
    "kernelspec": {
      "name": "python3",
      "display_name": "Python 3"
    },
    "language_info": {
      "name": "python"
    }
  },
  "cells": [
    {
      "cell_type": "markdown",
      "source": [
        "#Question 1\n",
        "How many multiplications and additions do you need to perform a matrix multiplication between a (n, k) and (k, m) matrix? Explain.\n",
        "\n"
      ],
      "metadata": {
        "id": "yhnb1miCeYGS"
      }
    },
    {
      "cell_type": "markdown",
      "source": [
        "Multiplications = m*n*k\n",
        "Addition = m*n*(k-1)\n",
        "In matrix multiplication, each row of first matrix is multiplied with each column of the second matrix to get one term of the final matrix. In each of such operation, k multiplications are done. The final matrix has m*n number of terms so total is m*n*k.\n",
        "In matrix multiplication, each row of first matrix is multiplied with each column of the second matrix to get one term of the final matrix. In each of such operation, k-1 additions are done. The final matrix has m*n number of terms so total is m*n*(k-1).\n"
      ],
      "metadata": {
        "id": "8H9zdH2ee450"
      }
    },
    {
      "cell_type": "markdown",
      "source": [
        "#Question 2"
      ],
      "metadata": {
        "id": "cV15_V_8lg1c"
      }
    },
    {
      "cell_type": "markdown",
      "source": [
        "Write Python code to multiply the above two matrices. Solve using list of lists and then use numpy. Compare the timing of both solutions. Which one is faster? Why?"
      ],
      "metadata": {
        "id": "AE9FDCAG-8Ud"
      }
    },
    {
      "cell_type": "markdown",
      "source": [
        "##Using lists"
      ],
      "metadata": {
        "id": "0LfJu-uSRoTR"
      }
    },
    {
      "cell_type": "code",
      "source": [
        "import time\n",
        "n=500\n",
        "k=200\n",
        "m=700\n",
        "rows_A, cols_A = (n, k)\n",
        "rows_B, cols_B = (k, m)\n",
        "\n",
        "arr_A = [[0 for i in range(cols_A)] for j in range(rows_A)]\n",
        "arr_B = [[0 for i in range(cols_B)] for j in range(rows_B)]\n",
        "arr_C = [[0 for i in range(cols_B)] for j in range(rows_A)]\n",
        "# print(arr_A)\n",
        "# print(arr_B)\n",
        "initialTime = time.time()\n",
        "for i in range(rows_A):\n",
        "  for j in range(cols_B):\n",
        "    for l in range(cols_A):\n",
        "      arr_C[i][j]=arr_A[i][l]*arr_B[l][j]\n",
        "print(\"Time taken by lists:\",time.time() - initialTime,\"seconds\")"
      ],
      "metadata": {
        "colab": {
          "base_uri": "https://localhost:8080/"
        },
        "id": "Wo337jF0ek-i",
        "outputId": "b4a04c78-b4e7-4f0d-99d6-cd8ee24a19cf"
      },
      "execution_count": null,
      "outputs": [
        {
          "output_type": "stream",
          "name": "stdout",
          "text": [
            "Time taken by lists: 24.632386445999146 seconds\n"
          ]
        }
      ]
    },
    {
      "cell_type": "markdown",
      "source": [
        "##Using numpy"
      ],
      "metadata": {
        "id": "R58j45GYTjCT"
      }
    },
    {
      "cell_type": "code",
      "execution_count": null,
      "metadata": {
        "colab": {
          "base_uri": "https://localhost:8080/"
        },
        "id": "1q1RviP8eUto",
        "outputId": "8926cba5-6861-4c2f-e4f4-8601487c8ada"
      },
      "outputs": [
        {
          "output_type": "stream",
          "name": "stdout",
          "text": [
            "Time taken by numpy: 0.10189557075500488 seconds\n",
            "Time taken by numpy: 0.08805584907531738 seconds\n"
          ]
        }
      ],
      "source": [
        "import numpy as np\n",
        "array1=np.array(arr_A)\n",
        "array2=np.array(arr_B)\n",
        "initialTime = time.time()\n",
        "result=np.dot(array1,array2)\n",
        "print(\"Time taken by numpy:\",time.time() - initialTime,\"seconds\")\n",
        "initialTime = time.time()\n",
        "result=np.matmul(array1,array2)\n",
        "print(\"Time taken by numpy:\",time.time() - initialTime,\"seconds\")"
      ]
    },
    {
      "cell_type": "markdown",
      "source": [
        "Numpy is faster because a Python list can have different data-types, which puts lots of extra constraints while doing computation on it. Numpy is able to divide a task into multiple subtasks and process them parallelly. Numpy functions are implemented in C. Which again makes it faster compared to Python Lists."
      ],
      "metadata": {
        "id": "_k2wN2JzXslp"
      }
    },
    {
      "cell_type": "markdown",
      "source": [
        "#Question 3"
      ],
      "metadata": {
        "id": "9bRQeJomeSZm"
      }
    },
    {
      "cell_type": "markdown",
      "source": [
        "Finding the highest element in a list requires one pass of the array. Finding the second highest element requires 2 passes of the the array. Using this method, what is the time complexity of finding the median of the array? Can you suggest a better method? Can you implement both these methods in Python and compare against numpy.median routine in terms of time?"
      ],
      "metadata": {
        "id": "5gPKwPPMA9yd"
      }
    },
    {
      "cell_type": "markdown",
      "source": [
        "Time complexity of finding the median of the array is O(N*N/2)~~O$(N^2)$."
      ],
      "metadata": {
        "id": "xiVg0jWbBBiC"
      }
    },
    {
      "cell_type": "code",
      "source": [
        "import time\n",
        "import numpy as np\n",
        "\n",
        "def findmedian(arr):\n",
        "  l=len(arr)\n",
        "  if l%2==0:\n",
        "    for k in range(l//2+1):\n",
        "      high=arr[0]\n",
        "      for i in range(l-k):\n",
        "        if high<arr[i]:\n",
        "          a=high\n",
        "          high=arr[i]\n",
        "          arr[i-1]=a\n",
        "    median=(arr[l//2]+arr[l//2-1])/2\n",
        "  elif l%2==1:\n",
        "    for k in range(l//2+1):\n",
        "      high=arr[0]\n",
        "      for i in range(l-k):\n",
        "        if high<arr[i]:\n",
        "          a=high\n",
        "          high=arr[i]\n",
        "          arr[i-1]=a\n",
        "    median=(arr[l//2])\n",
        "def findMedianbetter(a, n):\n",
        "    sorted(a)\n",
        "    if n % 2 != 0:\n",
        "        return float(a[int(n/2)])\n",
        "    return float((a[int((n-1)/2)] +\n",
        "                  a[int(n/2)])/2.0)\n",
        "\n",
        "arr=[int(i) for i in range(1000)]\n",
        "n=len(arr)\n",
        "initialTime=time.time()\n",
        "findmedian(arr)\n",
        "print(\"Time taken by 1st approach:\",time.time() - initialTime,\"seconds\")\n",
        "\n",
        "initialTime=time.time()\n",
        "findMedianbetter(arr,n)\n",
        "print(\"Time taken by 2nd approach:\",time.time() - initialTime,\"seconds\")\n",
        "\n",
        "initialTime=time.time()\n",
        "np.median(arr)\n",
        "print(\"Time taken by numpy:\",time.time() - initialTime,\"seconds\")\n"
      ],
      "metadata": {
        "colab": {
          "base_uri": "https://localhost:8080/"
        },
        "id": "Fw5xvtkbL1qX",
        "outputId": "c179523c-1aa8-4b84-fea8-540a07fb70f5"
      },
      "execution_count": null,
      "outputs": [
        {
          "output_type": "stream",
          "name": "stdout",
          "text": [
            "Time taken by 1st approach: 0.056581735610961914 seconds\n",
            "Time taken by 2nd approach: 0.00010824203491210938 seconds\n",
            "Time taken by numpy: 0.006164073944091797 seconds\n"
          ]
        }
      ]
    },
    {
      "cell_type": "markdown",
      "source": [
        "#Question 4"
      ],
      "metadata": {
        "id": "QVkZoxvltN7G"
      }
    },
    {
      "cell_type": "markdown",
      "source": [
        "What is the gradient of the following function with respect to x and y?\n",
        "\n",
        "A = $x^2y + y^3(sin(x))$"
      ],
      "metadata": {
        "id": "miWqjcoCu77P"
      }
    },
    {
      "cell_type": "markdown",
      "source": [
        "dA/dx = $2xy+y^3cos(x)$\n",
        "\n",
        "dA/dy = $x^2 +3y^2sin(x)$"
      ],
      "metadata": {
        "id": "U17XloKluWMY"
      }
    },
    {
      "cell_type": "markdown",
      "source": [
        "#Question 5"
      ],
      "metadata": {
        "id": "dEm8ItxCrPDN"
      }
    },
    {
      "cell_type": "markdown",
      "source": [
        "Use JAX to confirm the gradient evaluated by your method matches the analytical solution corresponding to a few random values of x and y"
      ],
      "metadata": {
        "id": "S3pIVkDcgdrN"
      }
    },
    {
      "cell_type": "code",
      "source": [
        "import jax.numpy as jnp\n",
        "from jax import grad\n",
        "import math\n",
        "import jax"
      ],
      "metadata": {
        "id": "wKYS4wAlrUJY"
      },
      "execution_count": null,
      "outputs": []
    },
    {
      "cell_type": "code",
      "source": [
        "def product(x, y):\n",
        "    z = (x**2)*y+jax.numpy.sin(x)*(y**3)\n",
        "    return z\n",
        "\n",
        "\n",
        "x = 0.0\n",
        "y = 4.0\n",
        "\n",
        "z = product(x, y)\n",
        "\n",
        "print(f\"Input Variable x: {x}\")\n",
        "print(f\"Input Variable y: {y}\")\n",
        "print(f\"Product z: {z}\\n\")\n",
        "\n",
        "# dz / dx\n",
        "dx = grad(product, argnums=0)(x, y)\n",
        "print(f\"Gradient of z wrt x: {dx}\")\n",
        "\n",
        "# dz / dy\n",
        "dy = grad(product, argnums=1)(x, y)\n",
        "print(f\"Gradient of z wrt y: {dy}\")\n",
        "\n",
        "x = (jnp.pi)/2\n",
        "y = 4.0\n",
        "\n",
        "z = product(x, y)\n",
        "\n",
        "print(f\"Input Variable x: {x}\")\n",
        "print(f\"Input Variable y: {y}\")\n",
        "print(f\"Product z: {z}\\n\")\n",
        "\n",
        "# dz / dx\n",
        "dx = grad(product, argnums=0)(x, y)\n",
        "print(f\"Gradient of z wrt x: {dx}\")\n",
        "\n",
        "# dz / dy\n",
        "dy = grad(product, argnums=1)(x, y)\n",
        "print(f\"Gradient of z wrt y: {dy}\")\n",
        "\n"
      ],
      "metadata": {
        "colab": {
          "base_uri": "https://localhost:8080/"
        },
        "id": "yJ_3BzLFgWzB",
        "outputId": "65224990-5d97-49ee-bd67-d2f78de9fbc1"
      },
      "execution_count": null,
      "outputs": [
        {
          "output_type": "stream",
          "name": "stdout",
          "text": [
            "Input Variable x: 0.0\n",
            "Input Variable y: 4.0\n",
            "Product z: 0.0\n",
            "\n",
            "Gradient of z wrt x: 64.0\n",
            "Gradient of z wrt y: 0.0\n",
            "Input Variable x: 1.5707963267948966\n",
            "Input Variable y: 4.0\n",
            "Product z: 73.8696060180664\n",
            "\n",
            "Gradient of z wrt x: 12.566368103027344\n",
            "Gradient of z wrt y: 50.46739959716797\n"
          ]
        }
      ]
    },
    {
      "cell_type": "markdown",
      "source": [
        "#Question 6"
      ],
      "metadata": {
        "id": "NEiQOXBQksOg"
      }
    },
    {
      "cell_type": "markdown",
      "source": [
        "Use sympy to confirm that you obtain the same gradient analytically.\n",
        "\n"
      ],
      "metadata": {
        "id": "kHxmXibPkyFy"
      }
    },
    {
      "cell_type": "code",
      "source": [
        "from sympy import *\n",
        "x, y = symbols('x y')\n",
        "init_printing(use_unicode=True)\n",
        "diff((x**2)*y+sin(x)*(y**3), x)\n",
        "diff((x**2)*y+sin(x)*(y**3), y)"
      ],
      "metadata": {
        "colab": {
          "base_uri": "https://localhost:8080/",
          "height": 39
        },
        "id": "yrudk9MznVSq",
        "outputId": "b3cb6039-b97e-4101-d72e-3b9105919cbe"
      },
      "execution_count": null,
      "outputs": [
        {
          "output_type": "execute_result",
          "data": {
            "text/plain": [
              " 2      2       \n",
              "x  + 3⋅y ⋅sin(x)"
            ],
            "text/latex": "$\\displaystyle x^{2} + 3 y^{2} \\sin{\\left(x \\right)}$"
          },
          "metadata": {},
          "execution_count": 14
        }
      ]
    },
    {
      "cell_type": "markdown",
      "source": [
        "#Question 7"
      ],
      "metadata": {
        "id": "LejEnittwOCF"
      }
    },
    {
      "cell_type": "markdown",
      "source": [
        "Create a Python nested dictionary to represent hierarchical information. We want to store record of students and their marks. Something like:\n",
        "\n",
        "2022\n",
        "Branch 1\n",
        "Roll Number: 1, Name: N, Marks:\n",
        "Maths: 100, English: 70 …\n",
        "Branch 2\n",
        "2023\n",
        "Branch 1\n",
        "Branch 2\n",
        "2024\n",
        "Branch 1\n",
        "Branch 2\n",
        "2025\n",
        "Branch 1\n",
        "Branch 2"
      ],
      "metadata": {
        "id": "VHgszHZ4b2eh"
      }
    },
    {
      "cell_type": "code",
      "source": [
        "students ={\n",
        "    2022:{\n",
        "        Branch_1:{\n",
        "            student_1:{\n",
        "                roll_no:1,\n",
        "                name:N,\n",
        "                Marks:{\n",
        "                    Maths:100,\n",
        "                    English:70\n",
        "                }\n",
        "            },\n",
        "            student_2:{\n",
        "                roll_no:2,\n",
        "                name:M,\n",
        "                Marks:{\n",
        "                    Maths:80,\n",
        "                    English:90\n",
        "                }\n",
        "            }\n",
        "        },\n",
        "        Branch_2:{\n",
        "            student_1:{\n",
        "                roll_no:1,\n",
        "                name:N,\n",
        "                Marks:{\n",
        "                    Maths:100,\n",
        "                    English:70\n",
        "                }\n",
        "            },\n",
        "            student_2:{\n",
        "                roll_no:2,\n",
        "                name:M,\n",
        "                Marks:{\n",
        "                    Maths:80,\n",
        "                    English:90\n",
        "                }\n",
        "            }\n",
        "        }\n",
        "    },\n",
        "    2023:{\n",
        "        Branch_1:{\n",
        "            student_1:{\n",
        "                roll_no:1,\n",
        "                name:N,\n",
        "                Marks:{\n",
        "                    Maths:100,\n",
        "                    English:70\n",
        "                }\n",
        "            },\n",
        "            student_2:{\n",
        "                roll_no:2,\n",
        "                name:M,\n",
        "                Marks:{\n",
        "                    Maths:80,\n",
        "                    English:90\n",
        "                }\n",
        "            }\n",
        "        },\n",
        "        Branch_2:{\n",
        "            student_1:{\n",
        "                roll_no:1,\n",
        "                name:N,\n",
        "                Marks:{\n",
        "                    Maths:100,\n",
        "                    English:70\n",
        "                }\n",
        "            },\n",
        "            student_2:{\n",
        "                roll_no:2,\n",
        "                name:M,\n",
        "                Marks:{\n",
        "                    Maths:80,\n",
        "                    English:90\n",
        "                }\n",
        "            }\n",
        "        }\n",
        "    },\n",
        "    2024:{\n",
        "        Branch_1:{\n",
        "            student_1:{\n",
        "                roll_no:1,\n",
        "                name:N,\n",
        "                Marks:{\n",
        "                    Maths:100,\n",
        "                    English:70\n",
        "                }\n",
        "            },\n",
        "            student_2:{\n",
        "                roll_no:2,\n",
        "                name:M,\n",
        "                Marks:{\n",
        "                    Maths:80,\n",
        "                    English:90\n",
        "                }\n",
        "            }\n",
        "        },\n",
        "        Branch_2:{\n",
        "            student_1:{\n",
        "                roll_no:1,\n",
        "                name:N,\n",
        "                Marks:{\n",
        "                    Maths:100,\n",
        "                    English:70\n",
        "                }\n",
        "            },\n",
        "            student_2:{\n",
        "                roll_no:2,\n",
        "                name:M,\n",
        "                Marks:{\n",
        "                    Maths:80,\n",
        "                    English:90\n",
        "                }\n",
        "            }\n",
        "        }\n",
        "    },\n",
        "    2025:{\n",
        "        Branch_1:{\n",
        "            student_1:{\n",
        "                roll_no:1,\n",
        "                name:N,\n",
        "                Marks:{\n",
        "                    Maths:100,\n",
        "                    English:70\n",
        "                }\n",
        "            },\n",
        "            student_2:{\n",
        "                roll_no:2,\n",
        "                name:M,\n",
        "                Marks:{\n",
        "                    Maths:80,\n",
        "                    English:90\n",
        "                }\n",
        "            }\n",
        "        },\n",
        "        Branch_2:{\n",
        "            student_1:{\n",
        "                roll_no:1,\n",
        "                name:N,\n",
        "                Marks:{\n",
        "                    Maths:100,\n",
        "                    English:70\n",
        "                }\n",
        "            },\n",
        "            student_2:{\n",
        "                roll_no:2,\n",
        "                name:M,\n",
        "                Marks:{\n",
        "                    Maths:80,\n",
        "                    English:90\n",
        "                }\n",
        "            }\n",
        "        }\n",
        "    }\n",
        "}"
      ],
      "metadata": {
        "id": "w6Hy7cbaIv53"
      },
      "execution_count": null,
      "outputs": []
    },
    {
      "cell_type": "markdown",
      "source": [
        "#Question 8"
      ],
      "metadata": {
        "id": "d4_OrMiWpmB0"
      }
    },
    {
      "cell_type": "markdown",
      "source": [
        "Store the same information using Python classes. We have an overall database which is a list of year objects. Each year contains a list of branches. Each branch contains a list of students. Each student has some properties like name, roll number and has marks in some subjects."
      ],
      "metadata": {
        "id": "jesNel9ZpxJX"
      }
    },
    {
      "cell_type": "markdown",
      "source": [
        "#Question 9"
      ],
      "metadata": {
        "id": "cC8kyMix_sh-"
      }
    },
    {
      "cell_type": "markdown",
      "source": [
        "Using matplotlib plot the following functions on the domain: x = 0.5 to 100.0 in steps of 0.5."
      ],
      "metadata": {
        "id": "AJi33RuD_ydn"
      }
    },
    {
      "cell_type": "markdown",
      "source": [
        "## 1. y = x"
      ],
      "metadata": {
        "id": "n44SoPUREkIh"
      }
    },
    {
      "cell_type": "code",
      "source": [
        "import matplotlib.pyplot as plt\n",
        "%matplotlib inline\n",
        "import pandas as pd\n",
        "import numpy as np\n",
        "\n",
        "x = np.arange(0.5, 100.5, 0.5)\n",
        "y = np.arange(0.5, 100.5, 0.5)\n",
        "\n",
        "plt.scatter(x, y, marker='o')"
      ],
      "metadata": {
        "id": "sTo86MMhpucQ",
        "colab": {
          "base_uri": "https://localhost:8080/",
          "height": 447
        },
        "outputId": "2be57848-f71e-4eef-b3f6-24f549256ef1"
      },
      "execution_count": null,
      "outputs": [
        {
          "output_type": "execute_result",
          "data": {
            "text/plain": [
              "<matplotlib.collections.PathCollection at 0x7c3c45feafe0>"
            ]
          },
          "metadata": {},
          "execution_count": 6
        },
        {
          "output_type": "display_data",
          "data": {
            "text/plain": [
              "<Figure size 640x480 with 1 Axes>"
            ],
            "image/png": "[encoded data removed]"
          },
          "metadata": {}
        }
      ]
    },
    {
      "cell_type": "markdown",
      "source": [
        "##2. y= $x^2$"
      ],
      "metadata": {
        "id": "8GkAlaqxEvKz"
      }
    },
    {
      "cell_type": "code",
      "source": [
        "y = x ** 2\n",
        "\n",
        "fig = plt.figure(figsize = (10, 5))\n",
        "# Create the plot\n",
        "plt.plot(x, y)\n",
        "\n",
        "# Show the plot\n",
        "plt.show()"
      ],
      "metadata": {
        "colab": {
          "base_uri": "https://localhost:8080/",
          "height": 445
        },
        "id": "9AIqFFvrDBea",
        "outputId": "7e9d8b90-139f-4567-e85c-6688edc44abe"
      },
      "execution_count": null,
      "outputs": [
        {
          "output_type": "display_data",
          "data": {
            "text/plain": [
              "<Figure size 1000x500 with 1 Axes>"
            ],
            "image/png": "[encoded data removed]"
          },
          "metadata": {}
        }
      ]
    },
    {
      "cell_type": "markdown",
      "source": [
        "##3.y = $x^3$/100"
      ],
      "metadata": {
        "id": "ipQG6VoCGTVf"
      }
    },
    {
      "cell_type": "code",
      "source": [
        "y = x ** 3/100\n",
        "\n",
        "fig = plt.figure(figsize = (10, 5))\n",
        "# Create the plot\n",
        "plt.plot(x, y)\n",
        "\n",
        "# Show the plot\n",
        "plt.show()"
      ],
      "metadata": {
        "colab": {
          "base_uri": "https://localhost:8080/",
          "height": 445
        },
        "id": "F98O36KeF2tG",
        "outputId": "5b3a2066-c238-4d69-fe6b-64ed19248192"
      },
      "execution_count": null,
      "outputs": [
        {
          "output_type": "display_data",
          "data": {
            "text/plain": [
              "<Figure size 1000x500 with 1 Axes>"
            ],
            "image/png": "[encoded data removed]"
          },
          "metadata": {}
        }
      ]
    },
    {
      "cell_type": "markdown",
      "source": [
        "##4. y = sin(x)"
      ],
      "metadata": {
        "id": "Y5eI-loSGyVK"
      }
    },
    {
      "cell_type": "code",
      "source": [
        "y = np.sin(x)\n",
        "\n",
        "fig = plt.figure(figsize = (10, 5))\n",
        "# Create the plot\n",
        "plt.plot(x, y)\n",
        "\n",
        "# Show the plot\n",
        "plt.show()"
      ],
      "metadata": {
        "colab": {
          "base_uri": "https://localhost:8080/",
          "height": 445
        },
        "id": "I11CAVyIGlq7",
        "outputId": "26c06327-085d-4d15-a170-482d59eb62b3"
      },
      "execution_count": null,
      "outputs": [
        {
          "output_type": "display_data",
          "data": {
            "text/plain": [
              "<Figure size 1000x500 with 1 Axes>"
            ],
            "image/png": "[encoded data removed]"
          },
          "metadata": {}
        }
      ]
    },
    {
      "cell_type": "markdown",
      "source": [
        "##5. y=sin(x)/x"
      ],
      "metadata": {
        "id": "e65lVyZmH84I"
      }
    },
    {
      "cell_type": "code",
      "source": [
        "y =np.sin(x)/x\n",
        "\n",
        "fig = plt.figure(figsize = (10, 5))\n",
        "# Create the plot\n",
        "plt.plot(x, y)\n",
        "\n",
        "# Show the plot\n",
        "plt.show()"
      ],
      "metadata": {
        "colab": {
          "base_uri": "https://localhost:8080/",
          "height": 445
        },
        "id": "6bAaMR7pHhgl",
        "outputId": "067ce90b-2766-484a-af78-15c94ed8f084"
      },
      "execution_count": null,
      "outputs": [
        {
          "output_type": "display_data",
          "data": {
            "text/plain": [
              "<Figure size 1000x500 with 1 Axes>"
            ],
            "image/png": "[encoded data removed]"
          },
          "metadata": {}
        }
      ]
    },
    {
      "cell_type": "markdown",
      "source": [
        "##6. y=log(x)"
      ],
      "metadata": {
        "id": "MtXrYkfhI9p_"
      }
    },
    {
      "cell_type": "code",
      "source": [
        "y =np.log10(x)\n",
        "fig = plt.figure(figsize = (10, 5))\n",
        "# Create the plot\n",
        "plt.scatter(x, y)\n",
        "\n",
        "# Show the plot\n",
        "plt.show()"
      ],
      "metadata": {
        "colab": {
          "base_uri": "https://localhost:8080/",
          "height": 445
        },
        "id": "aD5-RQOKH0i9",
        "outputId": "bac9fb54-ffdb-4cd2-dcf8-6989024a9b0f"
      },
      "execution_count": null,
      "outputs": [
        {
          "output_type": "display_data",
          "data": {
            "text/plain": [
              "<Figure size 1000x500 with 1 Axes>"
            ],
            "image/png": "[encoded data removed]"
          },
          "metadata": {}
        }
      ]
    },
    {
      "cell_type": "markdown",
      "source": [
        "##7. y = $e^x$"
      ],
      "metadata": {
        "id": "9lfBCg22TkIB"
      }
    },
    {
      "cell_type": "code",
      "source": [
        "y =np.exp(x)\n",
        "fig = plt.figure(figsize = (10, 5))\n",
        "# Create the plot\n",
        "plt.scatter(x, y)\n",
        "\n",
        "# Show the plot\n",
        "plt.show()"
      ],
      "metadata": {
        "colab": {
          "base_uri": "https://localhost:8080/",
          "height": 460
        },
        "id": "Tu4zJdBITIYF",
        "outputId": "21fdb5e8-acef-46bb-c614-1fdf265b0bf5"
      },
      "execution_count": null,
      "outputs": [
        {
          "output_type": "display_data",
          "data": {
            "text/plain": [
              "<Figure size 1000x500 with 1 Axes>"
            ],
            "image/png": "[encoded data removed]"
          },
          "metadata": {}
        }
      ]
    },
    {
      "cell_type": "markdown",
      "source": [
        "#Question 10"
      ],
      "metadata": {
        "id": "6ChiqP1tT5SB"
      }
    },
    {
      "cell_type": "markdown",
      "source": [
        "Using numpy generate a matrix of size 20X5 containing random numbers drawn uniformly from the range of 1 to 2. Using Pandas create a dataframe out of this matrix. Name the columns of the dataframe as “a”, “b”, “c”, “d”, “e”. Find the column with the highest standard deviation. Find the row with the lowest mean."
      ],
      "metadata": {
        "id": "hzK3xwNJUS4i"
      }
    },
    {
      "cell_type": "code",
      "source": [
        "data = np.random.uniform(low=1, high=2, size=(20,5))\n",
        "df = pd.DataFrame(data, columns=['a', 'b', 'c', 'd', 'e'])\n",
        "print(df)"
      ],
      "metadata": {
        "colab": {
          "base_uri": "https://localhost:8080/"
        },
        "id": "WLK236ryTvXQ",
        "outputId": "7c961404-41aa-4417-f149-34a53f3c4bc6"
      },
      "execution_count": null,
      "outputs": [
        {
          "output_type": "stream",
          "name": "stdout",
          "text": [
            "           a         b         c         d         e\n",
            "0   1.345482  1.677673  1.143487  1.300791  1.000100\n",
            "1   1.321108  1.487970  1.443819  1.647990  1.167394\n",
            "2   1.394910  1.603446  1.910489  1.403650  1.586381\n",
            "3   1.436233  1.820754  1.870897  1.891165  1.951826\n",
            "4   1.074433  1.278031  1.002515  1.421767  1.758402\n",
            "5   1.693810  1.272540  1.031873  1.683478  1.265480\n",
            "6   1.905800  1.138537  1.754066  1.545272  1.191231\n",
            "7   1.060481  1.054034  1.724614  1.106815  1.451922\n",
            "8   1.803920  1.949468  1.465040  1.953330  1.544624\n",
            "9   1.522425  1.659165  1.316602  1.274855  1.096873\n",
            "10  1.391215  1.440384  1.211681  1.017616  1.035540\n",
            "11  1.771411  1.592782  1.744002  1.320216  1.329101\n",
            "12  1.078605  1.730402  1.334907  1.512894  1.968937\n",
            "13  1.895448  1.982490  1.009871  1.593683  1.789783\n",
            "14  1.052631  1.884894  1.392504  1.117905  1.362113\n",
            "15  1.964139  1.967469  1.725118  1.472664  1.438984\n",
            "16  1.392302  1.538009  1.056891  1.306968  1.489376\n",
            "17  1.121182  1.663013  1.132490  1.044076  1.925084\n",
            "18  1.936592  1.818210  1.561739  1.090402  1.215330\n",
            "19  1.399523  1.690194  1.796383  1.187451  1.174432\n"
          ]
        }
      ]
    },
    {
      "cell_type": "code",
      "source": [
        "df.std(axis=0).idxmax()"
      ],
      "metadata": {
        "colab": {
          "base_uri": "https://localhost:8080/",
          "height": 35
        },
        "id": "9ck5UjsJVr6w",
        "outputId": "9d69296b-b20b-40bc-b4cc-3b72ce3aad90"
      },
      "execution_count": null,
      "outputs": [
        {
          "output_type": "execute_result",
          "data": {
            "text/plain": [
              "'a'"
            ],
            "application/vnd.google.colaboratory.intrinsic+json": {
              "type": "string"
            }
          },
          "metadata": {},
          "execution_count": 18
        }
      ]
    },
    {
      "cell_type": "code",
      "source": [
        "df.mean(axis=0).idxmin()"
      ],
      "metadata": {
        "colab": {
          "base_uri": "https://localhost:8080/",
          "height": 35
        },
        "id": "l6zNwhwcXYMJ",
        "outputId": "601831ea-2262-4314-ce9f-5a2ff5bc5669"
      },
      "execution_count": null,
      "outputs": [
        {
          "output_type": "execute_result",
          "data": {
            "text/plain": [
              "'d'"
            ],
            "application/vnd.google.colaboratory.intrinsic+json": {
              "type": "string"
            }
          },
          "metadata": {},
          "execution_count": 19
        }
      ]
    },
    {
      "cell_type": "markdown",
      "source": [
        "#Question 11"
      ],
      "metadata": {
        "id": "onIQa87YZcvw"
      }
    },
    {
      "cell_type": "markdown",
      "source": [
        "Add a new column to the dataframe called “f” which is the sum of the columns “a”, “b”, “c”, “d”, “e”. Create another column called “g”. The value in the column “g” should be “LT8” if the value in the column “f” is less than 8 and “GT8” otherwise. Find the number of rows in the dataframe where the value in the column “g” is “LT8”. Find the standard deviation of the column “f” for the rows where the value in the column “g” is “LT8” and “GT8” respectively."
      ],
      "metadata": {
        "id": "sXFIIE9kZbOb"
      }
    },
    {
      "cell_type": "code",
      "source": [
        "df[\"f\"] = df[\"a\"] + df[\"b\"] + df[\"c\"] + df[\"d\"] + df[\"e\"]\n",
        "df[\"g\"] = np.where(df[\"f\"] < 8, \"LT8\", \"GT8\")\n",
        "print(df)\n",
        "print(df[df[\"g\"] == \"LT8\"].shape[0])\n",
        "print(df[df[\"g\"] == \"LT8\"][\"f\"].std())\n",
        "print(df[df[\"g\"] == \"GT8\"][\"f\"].std())"
      ],
      "metadata": {
        "colab": {
          "base_uri": "https://localhost:8080/"
        },
        "id": "bfb-Sqh_ZFHt",
        "outputId": "c20038ba-61b9-4206-e579-132d2481dd23"
      },
      "execution_count": null,
      "outputs": [
        {
          "output_type": "stream",
          "name": "stdout",
          "text": [
            "           a         b         c         d         e         f    g\n",
            "0   1.345482  1.677673  1.143487  1.300791  1.000100  6.467533  LT8\n",
            "1   1.321108  1.487970  1.443819  1.647990  1.167394  7.068281  LT8\n",
            "2   1.394910  1.603446  1.910489  1.403650  1.586381  7.898877  LT8\n",
            "3   1.436233  1.820754  1.870897  1.891165  1.951826  8.970876  GT8\n",
            "4   1.074433  1.278031  1.002515  1.421767  1.758402  6.535148  LT8\n",
            "5   1.693810  1.272540  1.031873  1.683478  1.265480  6.947180  LT8\n",
            "6   1.905800  1.138537  1.754066  1.545272  1.191231  7.534906  LT8\n",
            "7   1.060481  1.054034  1.724614  1.106815  1.451922  6.397867  LT8\n",
            "8   1.803920  1.949468  1.465040  1.953330  1.544624  8.716382  GT8\n",
            "9   1.522425  1.659165  1.316602  1.274855  1.096873  6.869919  LT8\n",
            "10  1.391215  1.440384  1.211681  1.017616  1.035540  6.096436  LT8\n",
            "11  1.771411  1.592782  1.744002  1.320216  1.329101  7.757512  LT8\n",
            "12  1.078605  1.730402  1.334907  1.512894  1.968937  7.625745  LT8\n",
            "13  1.895448  1.982490  1.009871  1.593683  1.789783  8.271275  GT8\n",
            "14  1.052631  1.884894  1.392504  1.117905  1.362113  6.810048  LT8\n",
            "15  1.964139  1.967469  1.725118  1.472664  1.438984  8.568374  GT8\n",
            "16  1.392302  1.538009  1.056891  1.306968  1.489376  6.783546  LT8\n",
            "17  1.121182  1.663013  1.132490  1.044076  1.925084  6.885845  LT8\n",
            "18  1.936592  1.818210  1.561739  1.090402  1.215330  7.622273  LT8\n",
            "19  1.399523  1.690194  1.796383  1.187451  1.174432  7.247983  LT8\n",
            "16\n",
            "0.5346837853310125\n",
            "0.2921913096857616\n"
          ]
        }
      ]
    },
    {
      "cell_type": "markdown",
      "source": [
        "#Question 12"
      ],
      "metadata": {
        "id": "iq9oRbnG5sHk"
      }
    },
    {
      "cell_type": "markdown",
      "source": [
        "Write a small piece of code to explain broadcasting in numpy."
      ],
      "metadata": {
        "id": "v1oD8vPu7utu"
      }
    },
    {
      "cell_type": "code",
      "source": [
        "import numpy as np\n",
        "\n",
        "a = np.array([5, 7, 3, 1])\n",
        "b = np.array([90, 50, 0, 30])\n",
        "\n",
        "# array are compatible because of same Dimension\n",
        "c = a * b\n",
        "print(c)"
      ],
      "metadata": {
        "colab": {
          "base_uri": "https://localhost:8080/"
        },
        "id": "b4eRCrGW5d91",
        "outputId": "4c8fd4ac-a6f0-41a7-8928-5e29470a8ce1"
      },
      "execution_count": null,
      "outputs": [
        {
          "output_type": "stream",
          "name": "stdout",
          "text": [
            "[450 350   0  30]\n"
          ]
        }
      ]
    },
    {
      "cell_type": "code",
      "source": [
        "import numpy as np\n",
        "a = np.array([17, 11, 19]) # 1x3 Dimension array\n",
        "print(a)\n",
        "b = 3\n",
        "print(b)\n",
        "\n",
        "# Broadcasting happened because of\n",
        "# miss match in array Dimension.\n",
        "c = a + b\n",
        "print(c)"
      ],
      "metadata": {
        "colab": {
          "base_uri": "https://localhost:8080/"
        },
        "id": "DFtNx-Eg9epS",
        "outputId": "2de2b440-f0e8-40c8-d87e-e78325befc11"
      },
      "execution_count": null,
      "outputs": [
        {
          "output_type": "stream",
          "name": "stdout",
          "text": [
            "[17 11 19]\n",
            "3\n",
            "[20 14 22]\n"
          ]
        }
      ]
    },
    {
      "cell_type": "code",
      "source": [
        "\n",
        "import numpy as np\n",
        "\n",
        "v = np.array([1, 2, 3])\n",
        "w = np.array([4, 5])\n",
        "\n",
        "# Outer product of vectors v and w\n",
        "print(np.reshape(v, (3, 1)) * w)\n",
        "\n",
        "x = np.array([[1, 2, 3], [4, 5, 6]])\n",
        "\n",
        "# Broadcasting vector v to matrix x\n",
        "print(x + v)\n",
        "\n",
        "# Broadcasting vector w to the transposed matrix x\n",
        "print((x.T + w).T)\n",
        "\n",
        "# Reshaping vector w and broadcasting to matrix x\n",
        "print(x + np.reshape(w, (2, 1)))\n",
        "\n",
        "# Broadcasting scalar multiplication to matrix x\n",
        "print(x * 2)"
      ],
      "metadata": {
        "colab": {
          "base_uri": "https://localhost:8080/"
        },
        "id": "Plsovj9g9trk",
        "outputId": "4243cd11-23ab-4f83-c575-9dd6afdf1ce6"
      },
      "execution_count": null,
      "outputs": [
        {
          "output_type": "stream",
          "name": "stdout",
          "text": [
            "[[ 4  5]\n",
            " [ 8 10]\n",
            " [12 15]]\n",
            "[[2 4 6]\n",
            " [5 7 9]]\n",
            "[[ 5  6  7]\n",
            " [ 9 10 11]]\n",
            "[[ 5  6  7]\n",
            " [ 9 10 11]]\n",
            "[[ 2  4  6]\n",
            " [ 8 10 12]]\n"
          ]
        }
      ]
    },
    {
      "cell_type": "code",
      "source": [
        "macros = np.array([\n",
        "  [0.8, 2.9, 3.9],\n",
        "  [52.4, 23.6, 36.5],\n",
        "  [55.2, 31.7, 23.9],\n",
        "  [14.4, 11, 4.9]\n",
        "   ])\n",
        "\n",
        "result = np.zeros_like(macros)\n",
        "\n",
        "cal_per_macro = np.array([3, 3, 8])\n",
        "\n",
        "for i in range(macros.shape[0]):\n",
        "  result[i, :] = macros[i, :] * cal_per_macro\n",
        "\n",
        "print(result)"
      ],
      "metadata": {
        "colab": {
          "base_uri": "https://localhost:8080/"
        },
        "id": "ZP97TjTx8eDS",
        "outputId": "813adac4-97b2-4256-dc47-42b71176d686"
      },
      "execution_count": null,
      "outputs": [
        {
          "output_type": "stream",
          "name": "stdout",
          "text": [
            "[[  2.4   8.7  31.2]\n",
            " [157.2  70.8 292. ]\n",
            " [165.6  95.1 191.2]\n",
            " [ 43.2  33.   39.2]]\n"
          ]
        }
      ]
    },
    {
      "cell_type": "markdown",
      "source": [
        "#Question 13"
      ],
      "metadata": {
        "id": "oPGuLYyS-aX8"
      }
    },
    {
      "cell_type": "markdown",
      "source": [
        "Write a function to compute the argmin of a numpy array. The function should take a numpy array as input and return the index of the minimum element. You can use the np.argmin function to verify your solution."
      ],
      "metadata": {
        "id": "FRZWRyDM-ddd"
      }
    },
    {
      "cell_type": "code",
      "source": [
        "def argmin(arr):\n",
        "  min_val = arr[0]\n",
        "  min_index = 0\n",
        "  for i in range(1, len(arr)):\n",
        "    if arr[i] < min_val:\n",
        "      min_val = arr[i]\n",
        "      min_index = i\n",
        "  return min_index\n",
        "\n",
        "arr = np.array([1, 2, 3, 4, 5])\n",
        "print(argmin(arr))\n",
        "print(np.argmin(arr))"
      ],
      "metadata": {
        "colab": {
          "base_uri": "https://localhost:8080/"
        },
        "id": "s4ShBUd28rYW",
        "outputId": "dc48b52f-882f-4971-8524-2e5f954639e3"
      },
      "execution_count": null,
      "outputs": [
        {
          "output_type": "stream",
          "name": "stdout",
          "text": [
            "0\n",
            "0\n"
          ]
        }
      ]
    },
    {
      "cell_type": "code",
      "source": [],
      "metadata": {
        "id": "-DfCf6MzBnHS"
      },
      "execution_count": null,
      "outputs": []
    }
  ]
}